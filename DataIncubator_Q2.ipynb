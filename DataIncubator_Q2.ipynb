{
 "cells": [
  {
   "cell_type": "code",
   "execution_count": 1,
   "metadata": {},
   "outputs": [],
   "source": [
    "import numpy as np"
   ]
  },
  {
   "cell_type": "markdown",
   "metadata": {},
   "source": [
    "## Q2: \n",
    "\n",
    "* There is a rope of length N with points at interior integer coordinates (1,…,N−1). At every turn, we select 2 unique interior integer coordinates uniformly at random without replacement, cut the rope at those 2 coordinates, and take the longest of the resulting 3 ropes as our new rope. We do this iteratively T times (as long as it is possible to cut the rope at 2 unique interior coordinates) and call the length of the final resulting rope S. "
   ]
  },
  {
   "cell_type": "code",
   "execution_count": 109,
   "metadata": {},
   "outputs": [],
   "source": [
    "# Define rope class\n",
    "class Rope:\n",
    "    def __init__(self, length):\n",
    "        self.length = length\n",
    "        self.coords = np.arange(length+1)"
   ]
  },
  {
   "cell_type": "code",
   "execution_count": 56,
   "metadata": {},
   "outputs": [],
   "source": [
    "# Define rope cutting\n",
    "def cut_and_return_the_longest(rope):\n",
    "    cut_points = np.random.choice(rope.coords[1:-1], 2, replace=False)\n",
    "    first = cut_points[0]\n",
    "    second = cut_points[1] - cut_points[0]\n",
    "    third = rope.length - cut_points[1]\n",
    "    return max([first, second, third])"
   ]
  },
  {
   "cell_type": "code",
   "execution_count": 110,
   "metadata": {},
   "outputs": [],
   "source": [
    "# Define the iterative process\n",
    "def iterate(N, T):\n",
    "    ropes = []\n",
    "    rope = Rope(N)\n",
    "    for i in range(T):\n",
    "        new = cut_and_return_the_longest(rope)\n",
    "        ropes.append(new)\n",
    "        if new > 2:        \n",
    "            rope = Rope(new)\n",
    "        else:\n",
    "            return ropes\n",
    "    return ropes"
   ]
  },
  {
   "cell_type": "code",
   "execution_count": 168,
   "metadata": {},
   "outputs": [],
   "source": [
    "# Define a bootstrap sampler\n",
    "def bootstrap(function, N, T, size=1000):\n",
    "    means = []\n",
    "    stds = []\n",
    "    for i in range(size):\n",
    "        result = function(N, T)\n",
    "        means.append(np.mean(result))\n",
    "        stds.append(np.std(result))\n",
    "    return np.mean(means), np.mean(stds)"
   ]
  },
  {
   "cell_type": "code",
   "execution_count": 167,
   "metadata": {},
   "outputs": [
    {
     "data": {
      "text/plain": [
       "('26.108000000000', 12.406077083550368)"
      ]
     },
     "execution_count": 167,
     "metadata": {},
     "output_type": "execute_result"
    }
   ],
   "source": [
    "# What is the mean of S when N=64 and T=5? \n",
    "# Create a bootstrap sample for N=64 / T=5\n",
    "bootstrap(iterate, 64, 5)"
   ]
  },
  {
   "cell_type": "code",
   "execution_count": 136,
   "metadata": {},
   "outputs": [
    {
     "data": {
      "text/plain": [
       "(256.41409999999996, 226.41388420962204)"
      ]
     },
     "execution_count": 136,
     "metadata": {},
     "output_type": "execute_result"
    }
   ],
   "source": [
    "# What is the mean of S when N=1024 and T=10? \n",
    "bootstrap(iterate, 1024, 10)"
   ]
  },
  {
   "cell_type": "markdown",
   "metadata": {},
   "source": [
    "* What is the conditional probability that S is greater than 8 given that it is greater than 4 when N=64 and T=5? "
   ]
  },
  {
   "cell_type": "code",
   "execution_count": 150,
   "metadata": {},
   "outputs": [],
   "source": [
    "def bootstrap_cond_proba(N, T, size=1000):\n",
    "    p_greater_than_4 = []\n",
    "    p_greater_than_8 = []\n",
    "    for i in range(size):\n",
    "        result = np.array(iterate(N, T))\n",
    "        p_greater_than_4.append((result > 4).sum() / len(result))\n",
    "        p_greater_than_8.append((result > 8).sum() / len(result))\n",
    "    # P(A|B) = P(A&B) / P(B) => P(>8)==P(>4), so P(A&B)==P(A)\n",
    "    return np.mean(p_greater_than_8) / np.mean(p_greater_than_4)"
   ]
  },
  {
   "cell_type": "code",
   "execution_count": 153,
   "metadata": {},
   "outputs": [
    {
     "data": {
      "text/plain": [
       "0.916355068380884"
      ]
     },
     "execution_count": 153,
     "metadata": {},
     "output_type": "execute_result"
    }
   ],
   "source": [
    "bootstrap_cond_proba(64, 5)"
   ]
  },
  {
   "cell_type": "markdown",
   "metadata": {},
   "source": [
    "* What is the conditional probability that S is greater than 12 given that it is greater than 6 when N=1024 and T=10? "
   ]
  },
  {
   "cell_type": "code",
   "execution_count": 155,
   "metadata": {},
   "outputs": [
    {
     "data": {
      "text/plain": [
       "0.9901240283700601"
      ]
     },
     "execution_count": 155,
     "metadata": {},
     "output_type": "execute_result"
    }
   ],
   "source": [
    "bootstrap_cond_proba(1024, 10)"
   ]
  },
  {
   "cell_type": "code",
   "execution_count": null,
   "metadata": {},
   "outputs": [],
   "source": []
  }
 ],
 "metadata": {
  "kernelspec": {
   "display_name": "Python 3",
   "language": "python",
   "name": "python3"
  },
  "language_info": {
   "codemirror_mode": {
    "name": "ipython",
    "version": 3
   },
   "file_extension": ".py",
   "mimetype": "text/x-python",
   "name": "python",
   "nbconvert_exporter": "python",
   "pygments_lexer": "ipython3",
   "version": "3.6.4"
  }
 },
 "nbformat": 4,
 "nbformat_minor": 2
}
