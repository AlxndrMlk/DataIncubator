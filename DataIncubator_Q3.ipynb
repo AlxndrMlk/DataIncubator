{
 "cells": [
  {
   "cell_type": "code",
   "execution_count": 209,
   "metadata": {},
   "outputs": [],
   "source": [
    "import pandas as pd\n",
    "import numpy as np\n",
    "\n",
    "import urllib.request\n",
    "from bs4 import BeautifulSoup\n",
    "\n",
    "import spotipy\n",
    "from spotipy.oauth2 import SpotifyClientCredentials"
   ]
  },
  {
   "cell_type": "markdown",
   "metadata": {},
   "source": [
    "* Music....\n",
    "\n",
    "But there's also something deeper and less obvious to this topic. Music and songs are something we perceive relatively consciously. It is just a tip of the iceberg of wider soundscape we live in. Companies and marketers devote big amounts of their attention to visual representations of their products. But this space becomes more and more cluttered. Better understanding of audio space can help setting the new directions in marketing. \n",
    "\n",
    "Machine learning analysis of music could be even more useful when combined with thoughtful experiments on sound pereception using psychophysiological monitoring techinques like EEG, EKG or GSR."
   ]
  },
  {
   "cell_type": "markdown",
   "metadata": {},
   "source": [
    "## Define global params"
   ]
  },
  {
   "cell_type": "code",
   "execution_count": 3,
   "metadata": {},
   "outputs": [],
   "source": [
    "# Define headers\n",
    "hdr = {'User-Agent': 'Mozilla/5.0 (X11; Linux x86_64) AppleWebKit/537.11 (KHTML, like Gecko) Chrome/23.0.1271.64 Safari/537.11',\n",
    "       'Accept': 'text/html,application/xhtml+xml,application/xml;q=0.9,*/*;q=0.8',\n",
    "       'Accept-Charset': 'ISO-8859-1,utf-8;q=0.7,*;q=0.3',\n",
    "       'Accept-Encoding': 'none',\n",
    "       'Accept-Language': 'en-US,en;q=0.8',\n",
    "       'Connection': 'keep-alive'}"
   ]
  },
  {
   "cell_type": "code",
   "execution_count": 4,
   "metadata": {},
   "outputs": [],
   "source": [
    "# Spotify IDs / keys\n",
    "client_id='fa4bd213f2b248af8fd1871cceeaafc3'\n",
    "client_secret='2e5fc08ff47e441e8353304194075de2'"
   ]
  },
  {
   "cell_type": "markdown",
   "metadata": {},
   "source": [
    "## Create dataframe"
   ]
  },
  {
   "cell_type": "code",
   "execution_count": 223,
   "metadata": {},
   "outputs": [],
   "source": [
    "# Create an empty dataframe\n",
    "data = pd.DataFrame(columns=['artist', 'title', 'key', 'mode', 'tempo', 'time_sign',\\\n",
    "                           'speechiness', 'valence', 'liveness',\\\n",
    "                           'danceability', 'loudness', 'duration', 'year'])"
   ]
  },
  {
   "cell_type": "code",
   "execution_count": 224,
   "metadata": {},
   "outputs": [
    {
     "data": {
      "text/html": [
       "<div>\n",
       "<style scoped>\n",
       "    .dataframe tbody tr th:only-of-type {\n",
       "        vertical-align: middle;\n",
       "    }\n",
       "\n",
       "    .dataframe tbody tr th {\n",
       "        vertical-align: top;\n",
       "    }\n",
       "\n",
       "    .dataframe thead th {\n",
       "        text-align: right;\n",
       "    }\n",
       "</style>\n",
       "<table border=\"1\" class=\"dataframe\">\n",
       "  <thead>\n",
       "    <tr style=\"text-align: right;\">\n",
       "      <th></th>\n",
       "      <th>artist</th>\n",
       "      <th>title</th>\n",
       "      <th>key</th>\n",
       "      <th>mode</th>\n",
       "      <th>tempo</th>\n",
       "      <th>time_sign</th>\n",
       "      <th>speechiness</th>\n",
       "      <th>valence</th>\n",
       "      <th>liveness</th>\n",
       "      <th>danceability</th>\n",
       "      <th>loudness</th>\n",
       "      <th>duration</th>\n",
       "      <th>year</th>\n",
       "    </tr>\n",
       "  </thead>\n",
       "  <tbody>\n",
       "  </tbody>\n",
       "</table>\n",
       "</div>"
      ],
      "text/plain": [
       "Empty DataFrame\n",
       "Columns: [artist, title, key, mode, tempo, time_sign, speechiness, valence, liveness, danceability, loudness, duration, year]\n",
       "Index: []"
      ]
     },
     "execution_count": 224,
     "metadata": {},
     "output_type": "execute_result"
    }
   ],
   "source": [
    "data"
   ]
  },
  {
   "cell_type": "markdown",
   "metadata": {},
   "source": [
    "## Define functions"
   ]
  },
  {
   "cell_type": "code",
   "execution_count": 101,
   "metadata": {},
   "outputs": [],
   "source": [
    "def generate_url(year):\n",
    "    url = f'https://www.billboard.com/archive/charts/{year}/hot-100'\n",
    "    return url"
   ]
  },
  {
   "cell_type": "code",
   "execution_count": 89,
   "metadata": {},
   "outputs": [],
   "source": [
    "def scrape_billboard(url, hdr):\n",
    "    \n",
    "    yearly_top = []\n",
    "    \n",
    "    request = urllib.request.Request(url, headers=hdr)\n",
    "    with urllib.request.urlopen(request) as req:\n",
    "        page = req.read()\n",
    "    \n",
    "    billboard_soup = BeautifulSoup(page, 'lxml')            # Prepare some soup :)\n",
    "     \n",
    "    table = billboard_soup.select(\"table.archive-table\")    # Select the right table\n",
    "    \n",
    "    for table in billboard_soup.find_all('table'):          # Get info \n",
    "        for row in table.findAll('tr'):\n",
    "            if len(row) == 7:\n",
    "                tds = row.find_all('td')\n",
    "                if len(tds) > 0:\n",
    "                    yearly_top.append((f'{tds[2].string} {tds[1].string}'))\n",
    "    return yearly_top"
   ]
  },
  {
   "cell_type": "code",
   "execution_count": 158,
   "metadata": {},
   "outputs": [],
   "source": [
    "def edit_title(song_title):\n",
    "    new_split = []\n",
    "    if ('feat' in song_title.lower()) or ('&' in song_title) or ('\"' in song_title) or\\\n",
    "    ('(' in song_title):\n",
    "        split_title = song_title.lower().split(' ')\n",
    "        for word in split_title:\n",
    "            if ('feat' not in word) and ('&' not in word) and ('\"' not in word) and\\\n",
    "            ('(' not in word) and (')' not in word):\n",
    "                new_split.append(word)\n",
    "        song_title = ' '.join(new_split)\n",
    "    return song_title.lower()"
   ]
  },
  {
   "cell_type": "code",
   "execution_count": 155,
   "metadata": {},
   "outputs": [],
   "source": [
    "def get_metadata(song_title, client_id, client_secret):\n",
    "    \"\"\"\n",
    "    Tries finding metadata through Spotify\n",
    "    \"\"\"\n",
    "\n",
    "    client_credentials_manager = SpotifyClientCredentials(client_id, client_secret)\n",
    "\n",
    "    spotify = spotipy.Spotify(client_credentials_manager=client_credentials_manager)\n",
    "    results = spotify.search(song_title, limit=1)\n",
    "    \n",
    "    try:\n",
    "        song_id = results['tracks']['items'][0]['id']\n",
    "        results = results['tracks']['items'][0]  # Find top result\n",
    "        album = results['album']['name']  # Parse json dictionary\n",
    "        artist = results['album']['artists'][0]['name']\n",
    "        song_title = results['name']\n",
    "    except IndexError:\n",
    "        print(f'Song \"{song_title}\" not found - try manual search')\n",
    "        return 0, 0, 0\n",
    "\n",
    "    return artist, song_title, song_id"
   ]
  },
  {
   "cell_type": "code",
   "execution_count": 113,
   "metadata": {},
   "outputs": [],
   "source": [
    "def get_feats(song_id, client_id, client_secret):\n",
    "\n",
    "    client_credentials_manager = SpotifyClientCredentials(client_id, client_secret)\n",
    "\n",
    "    spotify = spotipy.Spotify(client_credentials_manager=client_credentials_manager)\n",
    "    results = spotify.audio_features(song_id)\n",
    "\n",
    "#     song_id = results['tracks']['items'][0]['id']\n",
    "#     results = results['tracks']['items'][0]  # Find top result\n",
    "#     album = results['album']['name']  # Parse json dictionary\n",
    "#     artist = results['album']['artists'][0]['name']\n",
    "#     song_title = results['name']\n",
    "\n",
    "    return results"
   ]
  },
  {
   "cell_type": "code",
   "execution_count": 114,
   "metadata": {},
   "outputs": [
    {
     "data": {
      "text/plain": [
       "[{'acousticness': 0.0135,\n",
       "  'analysis_url': 'https://api.spotify.com/v1/audio-analysis/0AwC0oZxr25SOcThearmN4',\n",
       "  'danceability': 0.927,\n",
       "  'duration_ms': 300383,\n",
       "  'energy': 0.705,\n",
       "  'id': '0AwC0oZxr25SOcThearmN4',\n",
       "  'instrumentalness': 0,\n",
       "  'key': 7,\n",
       "  'liveness': 0.0755,\n",
       "  'loudness': -6.27,\n",
       "  'mode': 1,\n",
       "  'speechiness': 0.0577,\n",
       "  'tempo': 99.024,\n",
       "  'time_signature': 4,\n",
       "  'track_href': 'https://api.spotify.com/v1/tracks/0AwC0oZxr25SOcThearmN4',\n",
       "  'type': 'audio_features',\n",
       "  'uri': 'spotify:track:0AwC0oZxr25SOcThearmN4',\n",
       "  'valence': 0.749}]"
      ]
     },
     "execution_count": 114,
     "metadata": {},
     "output_type": "execute_result"
    }
   ],
   "source": [
    "get_feats('0AwC0oZxr25SOcThearmN4', client_id=client_id, client_secret=client_secret)"
   ]
  },
  {
   "cell_type": "code",
   "execution_count": 103,
   "metadata": {},
   "outputs": [
    {
     "data": {
      "text/plain": [
       "('Drake', 'Legend', '1ID1QFSNNxi0hiZCNcwjUC')"
      ]
     },
     "execution_count": 103,
     "metadata": {},
     "output_type": "execute_result"
    }
   ],
   "source": [
    "get_metadata('legend', client_id=client_id, client_secret=client_secret)"
   ]
  },
  {
   "cell_type": "code",
   "execution_count": 176,
   "metadata": {},
   "outputs": [],
   "source": [
    "def decode_key(key):\n",
    "    keys = ['C', 'C#', 'D', 'D#', 'E', 'F', 'F#', 'G', 'G#', 'A', 'A#', 'B']\n",
    "    return keys[key]\n",
    "\n",
    "def decode_mode(mode):\n",
    "    modes = ['minor', 'major']\n",
    "    return modes[mode]"
   ]
  },
  {
   "cell_type": "code",
   "execution_count": 105,
   "metadata": {},
   "outputs": [],
   "source": [
    "class Song:\n",
    "    \n",
    "    def __init__(self, artist, title, year, sptfy_id, audio_feats):\n",
    "        self.artist = artist\n",
    "        self.title = title\n",
    "        self.year = year\n",
    "        self.sptfy_id = sptfy_id\n",
    "        self.audio_feats = audio_feats"
   ]
  },
  {
   "cell_type": "code",
   "execution_count": 151,
   "metadata": {},
   "outputs": [],
   "source": [
    "def get_entries(years):\n",
    "    song_info = []\n",
    "    for year in years:\n",
    "        url = generate_url(year)\n",
    "        songs = scrape_billboard(url, hdr)\n",
    "        to_search = []\n",
    "        for song in songs:\n",
    "            to_search.append(edit_title(song))\n",
    "        for search_phrase in to_search:\n",
    "            artist, title, sptfy_id =\\\n",
    "            get_metadata(search_phrase, client_id=client_id, client_secret=client_secret)\n",
    "            if sptfy_id == 0:\n",
    "                pass\n",
    "            else:\n",
    "                feats = get_feats(sptfy_id, client_id=client_id, client_secret=client_secret)\n",
    "                song_info.append(Song(artist, title, year, sptfy_id, feats))\n",
    "            \n",
    "    return song_info"
   ]
  },
  {
   "cell_type": "code",
   "execution_count": 154,
   "metadata": {},
   "outputs": [
    {
     "name": "stdout",
     "output_type": "stream",
     "text": [
      "Song paul mccartney and wings coming up (live at glasgow) not found - try manual search\n",
      "Song kenny rogers duet with dolly parton islands in the stream not found - try manual search\n",
      "Song peter cetera glory of love (theme from \"the karate kid part ii\") not found - try manual search\n",
      "Song bob seger shakedown (from \"beverly hills cop ii\") not found - try manual search\n",
      "Song michael jackson with siedah garrett i just can't stop loving you not found - try manual search\n",
      "Song bobby mcferrin don't worry, be happy (from \"cocktail\") not found - try manual search\n",
      "retrying ...1secs\n",
      "Song michael damian rock on (from \"dream a little dream\") not found - try manual search\n"
     ]
    }
   ],
   "source": [
    "entries_80_89 = get_entries(range(1980,1990))"
   ]
  },
  {
   "cell_type": "code",
   "execution_count": 159,
   "metadata": {},
   "outputs": [
    {
     "name": "stdout",
     "output_type": "stream",
     "text": [
      "Song \"paula abdul with the wild opposites attract\" not found - try manual search\n",
      "Song \"2pac k-ci and jojo how do u want it/california love\" not found - try manual search\n",
      "Song \"toni braxton you're makin' me high/let it flow\" not found - try manual search\n"
     ]
    }
   ],
   "source": [
    "entries_90_99 = get_entries(range(1990,2000))"
   ]
  },
  {
   "cell_type": "code",
   "execution_count": 160,
   "metadata": {},
   "outputs": [],
   "source": [
    "entries_00_09 = get_entries(range(2000,2010))"
   ]
  },
  {
   "cell_type": "code",
   "execution_count": 161,
   "metadata": {},
   "outputs": [
    {
     "name": "stdout",
     "output_type": "stream",
     "text": [
      "Song \"far*east movement cataracs dev like a g6\" not found - try manual search\n",
      "Song \"far*east movement cataracs dev like a g6\" not found - try manual search\n",
      "retrying ...1secs\n"
     ]
    }
   ],
   "source": [
    "entries_10_18 = get_entries(range(2010,2019))"
   ]
  },
  {
   "cell_type": "code",
   "execution_count": 163,
   "metadata": {},
   "outputs": [
    {
     "data": {
      "text/plain": [
       "('Far East Movement', 'Like A G6', '4DvhkX2ic4zWkQeWMwQ2qf')"
      ]
     },
     "execution_count": 163,
     "metadata": {},
     "output_type": "execute_result"
    }
   ],
   "source": [
    "get_metadata('like a g6 far east', client_id=client_id, client_secret=client_secret)"
   ]
  },
  {
   "cell_type": "code",
   "execution_count": 227,
   "metadata": {},
   "outputs": [],
   "source": [
    "def insert_entries(entries, dataframe):\n",
    "    id_last = data.shape[0]\n",
    "    for i, entry in enumerate(entries):\n",
    "        dataframe.loc[id_last + i] = [entry.artist, entry.title, decode_key(entry.audio_feats[0]['key']),\\\n",
    "             decode_mode(entry.audio_feats[0]['mode']), entry.audio_feats[0]['tempo'],\\\n",
    "             entry.audio_feats[0]['time_signature'], entry.audio_feats[0]['speechiness'],\\\n",
    "             entry.audio_feats[0]['valence'], entry.audio_feats[0]['danceability'], \\\n",
    "             entry.audio_feats[0]['danceability'], entry.audio_feats[0]['loudness'], \\\n",
    "             entry.audio_feats[0]['duration_ms'], entry.year]"
   ]
  },
  {
   "cell_type": "code",
   "execution_count": 228,
   "metadata": {},
   "outputs": [],
   "source": [
    "all_entries = [entries_80_89, entries_90_99, entries_00_09, entries_10_18]"
   ]
  },
  {
   "cell_type": "code",
   "execution_count": 229,
   "metadata": {},
   "outputs": [],
   "source": [
    "for i in all_entries:\n",
    "    insert_entries(i, data)"
   ]
  },
  {
   "cell_type": "code",
   "execution_count": 233,
   "metadata": {},
   "outputs": [],
   "source": [
    "data.to_csv(r'C:\\Users\\Ol\\Documents\\DATA ANALYSIS\\DATA_INCUBATOR\\music_data.csv')"
   ]
  },
  {
   "cell_type": "code",
   "execution_count": null,
   "metadata": {},
   "outputs": [],
   "source": []
  }
 ],
 "metadata": {
  "kernelspec": {
   "display_name": "Python 3",
   "language": "python",
   "name": "python3"
  },
  "language_info": {
   "codemirror_mode": {
    "name": "ipython",
    "version": 3
   },
   "file_extension": ".py",
   "mimetype": "text/x-python",
   "name": "python",
   "nbconvert_exporter": "python",
   "pygments_lexer": "ipython3",
   "version": "3.6.4"
  }
 },
 "nbformat": 4,
 "nbformat_minor": 2
}
