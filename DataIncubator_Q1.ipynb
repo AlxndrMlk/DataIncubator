{
 "cells": [
  {
   "cell_type": "code",
   "execution_count": 259,
   "metadata": {},
   "outputs": [],
   "source": [
    "import pandas as pd\n",
    "import numpy as np\n",
    "\n",
    "import scipy.stats as stats\n",
    "import statsmodels.api as sm\n",
    "from sklearn.linear_model import LinearRegression\n",
    "\n",
    "import matplotlib.pyplot as plt\n",
    "plt.style.use('seaborn')\n",
    "\n",
    "import urllib.request\n",
    "from bs4 import BeautifulSoup"
   ]
  },
  {
   "cell_type": "code",
   "execution_count": 2,
   "metadata": {},
   "outputs": [
    {
     "data": {
      "text/plain": [
       "odict_keys(['Data Notes', 'Complaints_Allegations', 'Sheet3'])"
      ]
     },
     "execution_count": 2,
     "metadata": {},
     "output_type": "execute_result"
    }
   ],
   "source": [
    "url = 'http://www1.nyc.gov/assets/ccrb/downloads/excel/ccrb_datatransparencyinitiative_20170207.xlsx'\n",
    "\n",
    "# Read in all sheets of Excel file\n",
    "xl = pd.read_excel(url, sheet_name=None)\n",
    "\n",
    "# Print the sheetnames\n",
    "xl.keys()"
   ]
  },
  {
   "cell_type": "code",
   "execution_count": 6,
   "metadata": {},
   "outputs": [
    {
     "data": {
      "text/plain": [
       "'The \"Complaints_Allegations\" sheet of this excel file contains data on all CCRB jurisdiction complaints closed in or after 2006.\\nSome data in the Data Transparency Initiative reports on complaints received.\\n\\nExcel Column Descriptions:\\n\\nColumn A: DateStamp - the date the file was created.\\nColumn B: UniqueComplaintId - a randomly assigned number used to uniquely identify distinct complaints. A single UniqueComplaintId may have multiple associated allegations.\\nColumn C: Close Year - the year the complaint was closed by the CCRB.\\nColumn D: CCRB Received Year - the year the complaint was received by the CCRB.\\nColumn E: Borough of Occurrence - the borough in which the incident occurred.\\nColumn F: Is Full Investigation - a logical marker indicating whether the complaint was fully investigated by the CCRB.\\nColumn G: Complaint Has Video Evidence - a logical marker indicating whether the CCRB has collected any video associated with the complaint.\\nColumn H: Complaint Filed Mode - how the complaint was filed.\\nColumn I: Complaint Filed Place - where the complaint was filed.\\nColumn J: Complaint Contains Stop & Frisk Allegations - a logical marker indicating whether the complaint contains an allegation of stop, question, search of person or frisk.\\nColumn K: Incident Location - a general description of the incident location.\\nColumn L: Incident Year - the year of the incident which led to the complaint.\\nColumn M: Encounter Outcome - the outcome of the encounter.\\nColumn N: Reason For Initial Contact - the reason for initial contact.\\nColumn O: Allegation FADO Type - the FADO type of the allegation (Force; Abuse of Authority; Discourtesy; Offensive Language).\\nColumn P: Allegation Description - the description of the allegation.\\n\\nIf you have questions or comments please visit out Data Transparency Initiative Feedback Page at: http://www1.nyc.gov/site/ccrb/policy/data-transparency-initiative-feedback.page'"
      ]
     },
     "execution_count": 6,
     "metadata": {},
     "output_type": "execute_result"
    }
   ],
   "source": [
    "xl['Data Notes'].iloc[0,0]"
   ]
  },
  {
   "cell_type": "code",
   "execution_count": 11,
   "metadata": {},
   "outputs": [],
   "source": [
    "data = xl['Complaints_Allegations']"
   ]
  },
  {
   "cell_type": "code",
   "execution_count": 368,
   "metadata": {},
   "outputs": [
    {
     "data": {
      "text/html": [
       "<div>\n",
       "<style scoped>\n",
       "    .dataframe tbody tr th:only-of-type {\n",
       "        vertical-align: middle;\n",
       "    }\n",
       "\n",
       "    .dataframe tbody tr th {\n",
       "        vertical-align: top;\n",
       "    }\n",
       "\n",
       "    .dataframe thead th {\n",
       "        text-align: right;\n",
       "    }\n",
       "</style>\n",
       "<table border=\"1\" class=\"dataframe\">\n",
       "  <thead>\n",
       "    <tr style=\"text-align: right;\">\n",
       "      <th></th>\n",
       "      <th>DateStamp</th>\n",
       "      <th>UniqueComplaintId</th>\n",
       "      <th>Close Year</th>\n",
       "      <th>Received Year</th>\n",
       "      <th>Borough of Occurrence</th>\n",
       "      <th>Is Full Investigation</th>\n",
       "      <th>Complaint Has Video Evidence</th>\n",
       "      <th>Complaint Filed Mode</th>\n",
       "      <th>Complaint Filed Place</th>\n",
       "      <th>Complaint Contains Stop &amp; Frisk Allegations</th>\n",
       "      <th>Incident Location</th>\n",
       "      <th>Incident Year</th>\n",
       "      <th>Encounter Outcome</th>\n",
       "      <th>Reason For Initial Contact</th>\n",
       "      <th>Allegation FADO Type</th>\n",
       "      <th>Allegation Description</th>\n",
       "    </tr>\n",
       "  </thead>\n",
       "  <tbody>\n",
       "    <tr>\n",
       "      <th>153405</th>\n",
       "      <td>2017-02-07</td>\n",
       "      <td>43302</td>\n",
       "      <td>2013</td>\n",
       "      <td>2013</td>\n",
       "      <td>Queens</td>\n",
       "      <td>False</td>\n",
       "      <td>False</td>\n",
       "      <td>Phone</td>\n",
       "      <td>IAB</td>\n",
       "      <td>False</td>\n",
       "      <td>Street/highway</td>\n",
       "      <td>2013</td>\n",
       "      <td>Arrest</td>\n",
       "      <td>C/V intervened on behalf of/observed encounter...</td>\n",
       "      <td>Force</td>\n",
       "      <td>Physical force</td>\n",
       "    </tr>\n",
       "    <tr>\n",
       "      <th>29762</th>\n",
       "      <td>2017-02-07</td>\n",
       "      <td>22278</td>\n",
       "      <td>2007</td>\n",
       "      <td>2006</td>\n",
       "      <td>Staten Island</td>\n",
       "      <td>True</td>\n",
       "      <td>False</td>\n",
       "      <td>Phone</td>\n",
       "      <td>CCRB</td>\n",
       "      <td>False</td>\n",
       "      <td>Street/highway</td>\n",
       "      <td>2005</td>\n",
       "      <td>Arrest</td>\n",
       "      <td>C/V at PCT to file complaint of crime</td>\n",
       "      <td>Force</td>\n",
       "      <td>Gun Pointed</td>\n",
       "    </tr>\n",
       "    <tr>\n",
       "      <th>32005</th>\n",
       "      <td>2017-02-07</td>\n",
       "      <td>28540</td>\n",
       "      <td>2007</td>\n",
       "      <td>2007</td>\n",
       "      <td>Brooklyn</td>\n",
       "      <td>True</td>\n",
       "      <td>False</td>\n",
       "      <td>Mail</td>\n",
       "      <td>CCRB</td>\n",
       "      <td>True</td>\n",
       "      <td>Apartment/house</td>\n",
       "      <td>2007</td>\n",
       "      <td>No Arrest or Summons</td>\n",
       "      <td>Report-domestic dispute</td>\n",
       "      <td>Abuse of Authority</td>\n",
       "      <td>Search (of person)</td>\n",
       "    </tr>\n",
       "  </tbody>\n",
       "</table>\n",
       "</div>"
      ],
      "text/plain": [
       "        DateStamp  UniqueComplaintId  Close Year  Received Year  \\\n",
       "153405 2017-02-07              43302        2013           2013   \n",
       "29762  2017-02-07              22278        2007           2006   \n",
       "32005  2017-02-07              28540        2007           2007   \n",
       "\n",
       "       Borough of Occurrence  Is Full Investigation  \\\n",
       "153405                Queens                  False   \n",
       "29762          Staten Island                   True   \n",
       "32005               Brooklyn                   True   \n",
       "\n",
       "        Complaint Has Video Evidence Complaint Filed Mode  \\\n",
       "153405                         False                Phone   \n",
       "29762                          False                Phone   \n",
       "32005                          False                 Mail   \n",
       "\n",
       "       Complaint Filed Place  Complaint Contains Stop & Frisk Allegations  \\\n",
       "153405                   IAB                                        False   \n",
       "29762                   CCRB                                        False   \n",
       "32005                   CCRB                                         True   \n",
       "\n",
       "       Incident Location  Incident Year     Encounter Outcome  \\\n",
       "153405    Street/highway           2013                Arrest   \n",
       "29762     Street/highway           2005                Arrest   \n",
       "32005    Apartment/house           2007  No Arrest or Summons   \n",
       "\n",
       "                               Reason For Initial Contact  \\\n",
       "153405  C/V intervened on behalf of/observed encounter...   \n",
       "29762               C/V at PCT to file complaint of crime   \n",
       "32005                             Report-domestic dispute   \n",
       "\n",
       "       Allegation FADO Type Allegation Description  \n",
       "153405                Force         Physical force  \n",
       "29762                 Force            Gun Pointed  \n",
       "32005    Abuse of Authority     Search (of person)  "
      ]
     },
     "execution_count": 368,
     "metadata": {},
     "output_type": "execute_result"
    }
   ],
   "source": [
    "data.sample(3)"
   ]
  },
  {
   "cell_type": "code",
   "execution_count": 12,
   "metadata": {},
   "outputs": [
    {
     "name": "stdout",
     "output_type": "stream",
     "text": [
      "<class 'pandas.core.frame.DataFrame'>\n",
      "RangeIndex: 206718 entries, 0 to 206717\n",
      "Data columns (total 16 columns):\n",
      "DateStamp                                      206718 non-null datetime64[ns]\n",
      "UniqueComplaintId                              206718 non-null int64\n",
      "Close Year                                     206718 non-null int64\n",
      "Received Year                                  206718 non-null int64\n",
      "Borough of Occurrence                          206216 non-null object\n",
      "Is Full Investigation                          206718 non-null bool\n",
      "Complaint Has Video Evidence                   206718 non-null bool\n",
      "Complaint Filed Mode                           206718 non-null object\n",
      "Complaint Filed Place                          206718 non-null object\n",
      "Complaint Contains Stop & Frisk Allegations    206718 non-null bool\n",
      "Incident Location                              203349 non-null object\n",
      "Incident Year                                  206718 non-null int64\n",
      "Encounter Outcome                              206718 non-null object\n",
      "Reason For Initial Contact                     205840 non-null object\n",
      "Allegation FADO Type                           206715 non-null object\n",
      "Allegation Description                         206715 non-null object\n",
      "dtypes: bool(3), datetime64[ns](1), int64(4), object(8)\n",
      "memory usage: 14.8+ MB\n"
     ]
    }
   ],
   "source": [
    "data.info()"
   ]
  },
  {
   "cell_type": "markdown",
   "metadata": {},
   "source": [
    "* How many unique complaints (identified by 'UniqueComplaintId') with complete information (i.e. there are no missing values) appear in the dataset? "
   ]
  },
  {
   "cell_type": "code",
   "execution_count": 18,
   "metadata": {},
   "outputs": [
    {
     "data": {
      "text/plain": [
       "(68467,)"
      ]
     },
     "execution_count": 18,
     "metadata": {},
     "output_type": "execute_result"
    }
   ],
   "source": [
    "# Get the number of unique complaints after removing rows with missing data:\n",
    "data.dropna(axis=0).UniqueComplaintId.unique().shape"
   ]
  },
  {
   "cell_type": "markdown",
   "metadata": {},
   "source": [
    "* What proportion of complaints occur in the borough with the largest number of complaints? For this question, only consider unique complaints with complete information. "
   ]
  },
  {
   "cell_type": "code",
   "execution_count": 38,
   "metadata": {},
   "outputs": [],
   "source": [
    "# Create a new dataframe with unique complaints and complete observations only\n",
    "data_uni_complete = data.dropna(axis=0).drop_duplicates('UniqueComplaintId')"
   ]
  },
  {
   "cell_type": "code",
   "execution_count": 39,
   "metadata": {},
   "outputs": [
    {
     "data": {
      "text/plain": [
       "Brooklyn         23369\n",
       "Manhattan        16067\n",
       "Bronx            15603\n",
       "Queens           10608\n",
       "Staten Island     2763\n",
       "Outside NYC         57\n",
       "Name: Borough of Occurrence, dtype: int64"
      ]
     },
     "execution_count": 39,
     "metadata": {},
     "output_type": "execute_result"
    }
   ],
   "source": [
    "# Identify the borough with the largest number of complaints\n",
    "data_uni_complete['Borough of Occurrence'].value_counts()"
   ]
  },
  {
   "cell_type": "code",
   "execution_count": 41,
   "metadata": {},
   "outputs": [
    {
     "data": {
      "text/plain": [
       "0.3413177151036266"
      ]
     },
     "execution_count": 41,
     "metadata": {},
     "output_type": "execute_result"
    }
   ],
   "source": [
    "# Compute the % of complaints that occured in the borough with the largest n of complaints\n",
    "data_uni_complete['Borough of Occurrence'].value_counts()[0] / data_uni_complete.shape[0]"
   ]
  },
  {
   "cell_type": "markdown",
   "metadata": {},
   "source": [
    "* How many complaints per 100k residents were there in the borough with the highest number of complaints per capita resulting from incidents in 2016? Find the 2016 population estimates of each borough on Wikipedia. Ignore complaints from \"Outside NYC\". For this question, only consider unique complaints with complete information. "
   ]
  },
  {
   "cell_type": "code",
   "execution_count": 44,
   "metadata": {},
   "outputs": [],
   "source": [
    "# Define 2016 population estimates for boroughs \n",
    "# Source: https://en.wikipedia.org/wiki/Demographics_of_New_York_City\n",
    "mnhttn2016, brkln2016, queens2016, brnx2016, sttn2016, tot2016 = \\\n",
    "[1643734, 2629150, 2333054, 1455720, 476015, 8537673]"
   ]
  },
  {
   "cell_type": "code",
   "execution_count": 45,
   "metadata": {},
   "outputs": [
    {
     "data": {
      "text/plain": [
       "True"
      ]
     },
     "execution_count": 45,
     "metadata": {},
     "output_type": "execute_result"
    }
   ],
   "source": [
    "# A quick sanity check\n",
    "mnhttn2016 + brkln2016 + queens2016 + brnx2016 + sttn2016 == tot2016"
   ]
  },
  {
   "cell_type": "code",
   "execution_count": 56,
   "metadata": {},
   "outputs": [
    {
     "data": {
      "text/plain": [
       "Brooklyn         1068\n",
       "Manhattan         844\n",
       "Bronx             772\n",
       "Queens            589\n",
       "Staten Island     149\n",
       "Outside NYC         3\n",
       "Name: Borough of Occurrence, dtype: int64"
      ]
     },
     "execution_count": 56,
     "metadata": {},
     "output_type": "execute_result"
    }
   ],
   "source": [
    "data_uni_complete[data_uni_complete['Incident Year'] == 2016]\\\n",
    "['Borough of Occurrence'].value_counts()"
   ]
  },
  {
   "cell_type": "code",
   "execution_count": 57,
   "metadata": {},
   "outputs": [],
   "source": [
    "# Create a list of n of complaints per borough (2016) ignoring 'Outside NYC':\n",
    "cmplnts2016 = \\\n",
    "data_uni_complete[data_uni_complete['Incident Year'] == 2016]\\\n",
    "['Borough of Occurrence'].value_counts()[:5]"
   ]
  },
  {
   "cell_type": "code",
   "execution_count": 67,
   "metadata": {},
   "outputs": [],
   "source": [
    "# Create a list of boroughs names \n",
    "names = data_uni_complete[data_uni_complete['Incident Year'] == 2016]\\\n",
    "['Borough of Occurrence'].value_counts()[:5].index"
   ]
  },
  {
   "cell_type": "code",
   "execution_count": 59,
   "metadata": {},
   "outputs": [],
   "source": [
    "# Create a list of populations\n",
    "popul2016 = [brkln2016, mnhttn2016, brnx2016, queens2016, sttn2016]"
   ]
  },
  {
   "cell_type": "code",
   "execution_count": 72,
   "metadata": {},
   "outputs": [
    {
     "name": "stdout",
     "output_type": "stream",
     "text": [
      "Brooklyn        0.00040621493638628455\n",
      "Manhattan       0.0005134650740326598\n",
      "Bronx           0.0005303217651746215\n",
      "Queens          0.00025245879435280966\n",
      "Staten Island   0.00031301534615505816\n"
     ]
    }
   ],
   "source": [
    "# Identify the borough with the highest n of cmplnts per capita\n",
    "for name, c, p in zip(names, cmplnts2016, popul2016):\n",
    "    print(f'{name:15} {c/p}')"
   ]
  },
  {
   "cell_type": "code",
   "execution_count": 73,
   "metadata": {},
   "outputs": [
    {
     "data": {
      "text/plain": [
       "53.032176517462155"
      ]
     },
     "execution_count": 73,
     "metadata": {},
     "output_type": "execute_result"
    }
   ],
   "source": [
    "# Bronx had got the highest number of cmplnts per capita in 2016\n",
    "# How many complaints per 100k residents in 2016 were there in Brnx?\n",
    "0.0005303217651746215 * 100000"
   ]
  },
  {
   "cell_type": "markdown",
   "metadata": {},
   "source": [
    "* What is the average number of years it takes for a complaint to be closed? For this question, only consider unique complaints with complete information. "
   ]
  },
  {
   "cell_type": "code",
   "execution_count": 78,
   "metadata": {},
   "outputs": [
    {
     "data": {
      "text/plain": [
       "0.4743745161902814"
      ]
     },
     "execution_count": 78,
     "metadata": {},
     "output_type": "execute_result"
    }
   ],
   "source": [
    "(data_uni_complete['Close Year'] - data_uni_complete['Received Year']).sum() / \\\n",
    "data_uni_complete.shape[0]"
   ]
  },
  {
   "cell_type": "markdown",
   "metadata": {},
   "source": [
    "* Calculate the chi-square test statistic for testing whether a complaint is more likely to receive a full investigation when it has video evidence. For this question, only consider unique complaints with complete information. "
   ]
  },
  {
   "cell_type": "code",
   "execution_count": 100,
   "metadata": {},
   "outputs": [
    {
     "data": {
      "text/html": [
       "<div>\n",
       "<style scoped>\n",
       "    .dataframe tbody tr th:only-of-type {\n",
       "        vertical-align: middle;\n",
       "    }\n",
       "\n",
       "    .dataframe tbody tr th {\n",
       "        vertical-align: top;\n",
       "    }\n",
       "\n",
       "    .dataframe thead th {\n",
       "        text-align: right;\n",
       "    }\n",
       "</style>\n",
       "<table border=\"1\" class=\"dataframe\">\n",
       "  <thead>\n",
       "    <tr style=\"text-align: right;\">\n",
       "      <th>Complaint Has Video Evidence</th>\n",
       "      <th>False</th>\n",
       "      <th>True</th>\n",
       "    </tr>\n",
       "    <tr>\n",
       "      <th>Is Full Investigation</th>\n",
       "      <th></th>\n",
       "      <th></th>\n",
       "    </tr>\n",
       "  </thead>\n",
       "  <tbody>\n",
       "    <tr>\n",
       "      <th>False</th>\n",
       "      <td>44529</td>\n",
       "      <td>584</td>\n",
       "    </tr>\n",
       "    <tr>\n",
       "      <th>True</th>\n",
       "      <td>21889</td>\n",
       "      <td>1465</td>\n",
       "    </tr>\n",
       "  </tbody>\n",
       "</table>\n",
       "</div>"
      ],
      "text/plain": [
       "Complaint Has Video Evidence  False  True \n",
       "Is Full Investigation                     \n",
       "False                         44529    584\n",
       "True                          21889   1465"
      ]
     },
     "execution_count": 100,
     "metadata": {},
     "output_type": "execute_result"
    }
   ],
   "source": [
    "# Check the crosstab for investigation vs video\n",
    "pd.crosstab(data_uni_complete['Is Full Investigation'],\\\n",
    "            data_uni_complete['Complaint Has Video Evidence'])"
   ]
  },
  {
   "cell_type": "code",
   "execution_count": 101,
   "metadata": {},
   "outputs": [],
   "source": [
    "# Create contingency table for further testing\n",
    "vid_vs_invstgtn = pd.crosstab(data_uni_complete['Is Full Investigation'],\\\n",
    "            data_uni_complete['Complaint Has Video Evidence']).values"
   ]
  },
  {
   "cell_type": "code",
   "execution_count": 102,
   "metadata": {},
   "outputs": [
    {
     "data": {
      "text/plain": [
       "(1312.0319808202814,\n",
       " 2.744813207558423e-287,\n",
       " 1,\n",
       " array([[43762.91109586,  1350.08890414],\n",
       "        [22655.08890414,   698.91109586]]))"
      ]
     },
     "execution_count": 102,
     "metadata": {},
     "output_type": "execute_result"
    }
   ],
   "source": [
    "# Perform chi^2 test of independence\n",
    "stats.chi2_contingency(vid_vs_invstgtn)"
   ]
  },
  {
   "cell_type": "markdown",
   "metadata": {},
   "source": [
    "* Complaints about stop and frisk have been declining. Use linear regression from the year complaints about stop and frisk peaked through 2016 (inclusive) to predict how many stop and frisk incidents in 2018 will eventually lead to a complaint. For this question, only consider unique complaints with complete information. Remember that the count of complaints must be an integer (round to nearest). "
   ]
  },
  {
   "cell_type": "code",
   "execution_count": 117,
   "metadata": {},
   "outputs": [
    {
     "data": {
      "text/plain": [
       "array(['Action', 'Physical force', 'Strip-searched', 'Threat of arrest',\n",
       "       'Property damaged', 'Premises entered and/or searched',\n",
       "       'Question and/or stop', 'Demeanor/tone',\n",
       "       'Refusal to provide name/shield number', 'Word', 'Vehicle stop',\n",
       "       'Race', 'Gun Drawn', 'Other',\n",
       "       'Refusal to obtain medical treatment', 'Gun Pointed',\n",
       "       'Refusal to process civilian complaint', 'Vehicle search',\n",
       "       'Search (of person)', 'Threat of force (verbal or physical)',\n",
       "       'Seizure of property', 'Gun fired',\n",
       "       'Failure to show search warrant',\n",
       "       'Nightstick as club (incl asp & baton)', 'Threat of summons',\n",
       "       'Radio as club', 'Improper dissemination of medical info',\n",
       "       'Retaliatory summons', 'Chokehold', 'Retaliatory arrest',\n",
       "       'Threat to damage/seize property', 'Vehicle',\n",
       "       'Hit against inanimate object', 'Other blunt instrument as a club',\n",
       "       'Frisk', 'Sexual orientation', 'Ethnicity', 'Threat to notify ACS',\n",
       "       'Pepper spray', 'Gesture', 'Gun as club', 'Flashlight as club',\n",
       "       'Handcuffs too tight', 'Animal', 'Nonlethal restraining device',\n",
       "       'Physical disability', 'Police shield', 'Religion',\n",
       "       'Frisk and/or search', 'Stop', 'Question', 'Gender',\n",
       "       'Refusal to show arrest warrant', 'Interference with recording',\n",
       "       'Search of recording device'], dtype=object)"
      ]
     },
     "execution_count": 117,
     "metadata": {},
     "output_type": "execute_result"
    }
   ],
   "source": [
    "data_uni_complete['Allegation Description'].unique()"
   ]
  },
  {
   "cell_type": "code",
   "execution_count": 142,
   "metadata": {},
   "outputs": [],
   "source": [
    "# Filter complaints about stop and frisk (I assume that you have to stop a person to frisk her\n",
    "# and that complaint about just stop is not a complaint about stop and frisk\n",
    "data_frisk = data_uni_complete[data_uni_complete['Allegation Description'].\\\n",
    "                  str.contains('Frisk' or 'frisk')]"
   ]
  },
  {
   "cell_type": "code",
   "execution_count": 143,
   "metadata": {},
   "outputs": [
    {
     "data": {
      "text/plain": [
       "2011    186\n",
       "2009    181\n",
       "2007    172\n",
       "2010    163\n",
       "2006    153\n",
       "2008    151\n",
       "2012    145\n",
       "2013    133\n",
       "2014     90\n",
       "2005     79\n",
       "2015     66\n",
       "2016     48\n",
       "2004      6\n",
       "2017      1\n",
       "Name: Received Year, dtype: int64"
      ]
     },
     "execution_count": 143,
     "metadata": {},
     "output_type": "execute_result"
    }
   ],
   "source": [
    "# Find a year where n complaints peaked\n",
    "data_frisk['Received Year'].value_counts()"
   ]
  },
  {
   "cell_type": "code",
   "execution_count": 173,
   "metadata": {},
   "outputs": [],
   "source": [
    "# Create a new data frame with number of complaints vs year \n",
    "years = data_frisk['Received Year'].value_counts().index\n",
    "vals = data_frisk['Received Year'].value_counts().values\n",
    "complaints = pd.DataFrame({'year': years, 'n_complaints': vals})"
   ]
  },
  {
   "cell_type": "code",
   "execution_count": 174,
   "metadata": {},
   "outputs": [
    {
     "data": {
      "text/html": [
       "<div>\n",
       "<style scoped>\n",
       "    .dataframe tbody tr th:only-of-type {\n",
       "        vertical-align: middle;\n",
       "    }\n",
       "\n",
       "    .dataframe tbody tr th {\n",
       "        vertical-align: top;\n",
       "    }\n",
       "\n",
       "    .dataframe thead th {\n",
       "        text-align: right;\n",
       "    }\n",
       "</style>\n",
       "<table border=\"1\" class=\"dataframe\">\n",
       "  <thead>\n",
       "    <tr style=\"text-align: right;\">\n",
       "      <th></th>\n",
       "      <th>n_complaints</th>\n",
       "      <th>year</th>\n",
       "    </tr>\n",
       "  </thead>\n",
       "  <tbody>\n",
       "    <tr>\n",
       "      <th>0</th>\n",
       "      <td>186</td>\n",
       "      <td>2011</td>\n",
       "    </tr>\n",
       "    <tr>\n",
       "      <th>6</th>\n",
       "      <td>145</td>\n",
       "      <td>2012</td>\n",
       "    </tr>\n",
       "    <tr>\n",
       "      <th>7</th>\n",
       "      <td>133</td>\n",
       "      <td>2013</td>\n",
       "    </tr>\n",
       "    <tr>\n",
       "      <th>8</th>\n",
       "      <td>90</td>\n",
       "      <td>2014</td>\n",
       "    </tr>\n",
       "    <tr>\n",
       "      <th>10</th>\n",
       "      <td>66</td>\n",
       "      <td>2015</td>\n",
       "    </tr>\n",
       "    <tr>\n",
       "      <th>11</th>\n",
       "      <td>48</td>\n",
       "      <td>2016</td>\n",
       "    </tr>\n",
       "  </tbody>\n",
       "</table>\n",
       "</div>"
      ],
      "text/plain": [
       "    n_complaints  year\n",
       "0            186  2011\n",
       "6            145  2012\n",
       "7            133  2013\n",
       "8             90  2014\n",
       "10            66  2015\n",
       "11            48  2016"
      ]
     },
     "execution_count": 174,
     "metadata": {},
     "output_type": "execute_result"
    }
   ],
   "source": [
    "# Limit the dataframe to a given date range and reset index\n",
    "complaints = complaints[(complaints.year >= 2011) & (complaints.year < 2017)]\n",
    "complaints.reset_index(drop=True)\n",
    "complaints"
   ]
  },
  {
   "cell_type": "code",
   "execution_count": 178,
   "metadata": {},
   "outputs": [
    {
     "data": {
      "text/plain": [
       "LinearRegression(copy_X=True, fit_intercept=True, n_jobs=1, normalize=False)"
      ]
     },
     "execution_count": 178,
     "metadata": {},
     "output_type": "execute_result"
    }
   ],
   "source": [
    "# Build a model with year as a predictor of a number of stop and frisk complaints\n",
    "lin_reg = LinearRegression()\n",
    "lin_reg.fit(complaints.year.values.reshape(-1, 1), complaints.n_complaints)"
   ]
  },
  {
   "cell_type": "code",
   "execution_count": 187,
   "metadata": {},
   "outputs": [
    {
     "data": {
      "text/plain": [
       "array([-13.38095238])"
      ]
     },
     "execution_count": 187,
     "metadata": {},
     "output_type": "execute_result"
    }
   ],
   "source": [
    "# Predict\n",
    "lin_reg.predict(2018)"
   ]
  },
  {
   "cell_type": "markdown",
   "metadata": {},
   "source": [
    "* Each row in the data set corresponds with a specific allegation. Therefore a particular complaint, designated by 'UniqueComplaintId', may have multiple allegations. Consider only allegations with complete information. Is the presence of a certain type of allegation (i.e. 'Allegation FADO Type') indicative that a complaint will contain multiple allegations? Create indicator variables for whether a complaint contains each type of allegation, and perform a linear regression of the number of allegations per complaint against these indicator variables. What is the maximum coefficient of the linear regression? "
   ]
  },
  {
   "cell_type": "code",
   "execution_count": 188,
   "metadata": {},
   "outputs": [],
   "source": [
    "# Create a dataset of all complete allegations\n",
    "data_complete = data.dropna(axis=0)"
   ]
  },
  {
   "cell_type": "code",
   "execution_count": 190,
   "metadata": {},
   "outputs": [],
   "source": [
    "# Create indicatgor variables\n",
    "FADO_indicator = pd.get_dummies(data_complete['Allegation FADO Type'])"
   ]
  },
  {
   "cell_type": "code",
   "execution_count": 193,
   "metadata": {},
   "outputs": [
    {
     "data": {
      "text/plain": [
       "((202390, 16), (202390, 4))"
      ]
     },
     "execution_count": 193,
     "metadata": {},
     "output_type": "execute_result"
    }
   ],
   "source": [
    "# Sanity check\n",
    "data_complete.shape, FADO_indicator.shape"
   ]
  },
  {
   "cell_type": "code",
   "execution_count": 208,
   "metadata": {},
   "outputs": [],
   "source": [
    "# Join\n",
    "FADO_complete = data_complete.join(FADO_indicator)"
   ]
  },
  {
   "cell_type": "code",
   "execution_count": 209,
   "metadata": {},
   "outputs": [
    {
     "data": {
      "text/html": [
       "<div>\n",
       "<style scoped>\n",
       "    .dataframe tbody tr th:only-of-type {\n",
       "        vertical-align: middle;\n",
       "    }\n",
       "\n",
       "    .dataframe tbody tr th {\n",
       "        vertical-align: top;\n",
       "    }\n",
       "\n",
       "    .dataframe thead th {\n",
       "        text-align: right;\n",
       "    }\n",
       "</style>\n",
       "<table border=\"1\" class=\"dataframe\">\n",
       "  <thead>\n",
       "    <tr style=\"text-align: right;\">\n",
       "      <th></th>\n",
       "      <th>DateStamp</th>\n",
       "      <th>UniqueComplaintId</th>\n",
       "      <th>Close Year</th>\n",
       "      <th>Received Year</th>\n",
       "      <th>Borough of Occurrence</th>\n",
       "      <th>Is Full Investigation</th>\n",
       "      <th>Complaint Has Video Evidence</th>\n",
       "      <th>Complaint Filed Mode</th>\n",
       "      <th>Complaint Filed Place</th>\n",
       "      <th>Complaint Contains Stop &amp; Frisk Allegations</th>\n",
       "      <th>Incident Location</th>\n",
       "      <th>Incident Year</th>\n",
       "      <th>Encounter Outcome</th>\n",
       "      <th>Reason For Initial Contact</th>\n",
       "      <th>Allegation FADO Type</th>\n",
       "      <th>Allegation Description</th>\n",
       "      <th>Abuse of Authority</th>\n",
       "      <th>Discourtesy</th>\n",
       "      <th>Force</th>\n",
       "      <th>Offensive Language</th>\n",
       "    </tr>\n",
       "  </thead>\n",
       "  <tbody>\n",
       "    <tr>\n",
       "      <th>0</th>\n",
       "      <td>2017-02-07</td>\n",
       "      <td>6</td>\n",
       "      <td>2006</td>\n",
       "      <td>2006</td>\n",
       "      <td>Brooklyn</td>\n",
       "      <td>False</td>\n",
       "      <td>False</td>\n",
       "      <td>Phone</td>\n",
       "      <td>IAB</td>\n",
       "      <td>False</td>\n",
       "      <td>Street/highway</td>\n",
       "      <td>2006</td>\n",
       "      <td>No Arrest or Summons</td>\n",
       "      <td>PD suspected C/V of violation/crime - street</td>\n",
       "      <td>Discourtesy</td>\n",
       "      <td>Action</td>\n",
       "      <td>0</td>\n",
       "      <td>1</td>\n",
       "      <td>0</td>\n",
       "      <td>0</td>\n",
       "    </tr>\n",
       "    <tr>\n",
       "      <th>1</th>\n",
       "      <td>2017-02-07</td>\n",
       "      <td>11</td>\n",
       "      <td>2006</td>\n",
       "      <td>2006</td>\n",
       "      <td>Bronx</td>\n",
       "      <td>False</td>\n",
       "      <td>False</td>\n",
       "      <td>Phone</td>\n",
       "      <td>IAB</td>\n",
       "      <td>False</td>\n",
       "      <td>Street/highway</td>\n",
       "      <td>2006</td>\n",
       "      <td>Arrest</td>\n",
       "      <td>Other</td>\n",
       "      <td>Force</td>\n",
       "      <td>Physical force</td>\n",
       "      <td>0</td>\n",
       "      <td>0</td>\n",
       "      <td>1</td>\n",
       "      <td>0</td>\n",
       "    </tr>\n",
       "    <tr>\n",
       "      <th>2</th>\n",
       "      <td>2017-02-07</td>\n",
       "      <td>20</td>\n",
       "      <td>2006</td>\n",
       "      <td>2005</td>\n",
       "      <td>Bronx</td>\n",
       "      <td>False</td>\n",
       "      <td>False</td>\n",
       "      <td>Call Processing System</td>\n",
       "      <td>CCRB</td>\n",
       "      <td>True</td>\n",
       "      <td>Street/highway</td>\n",
       "      <td>2005</td>\n",
       "      <td>No Arrest or Summons</td>\n",
       "      <td>Other</td>\n",
       "      <td>Abuse of Authority</td>\n",
       "      <td>Strip-searched</td>\n",
       "      <td>1</td>\n",
       "      <td>0</td>\n",
       "      <td>0</td>\n",
       "      <td>0</td>\n",
       "    </tr>\n",
       "  </tbody>\n",
       "</table>\n",
       "</div>"
      ],
      "text/plain": [
       "   DateStamp  UniqueComplaintId  Close Year  Received Year  \\\n",
       "0 2017-02-07                  6        2006           2006   \n",
       "1 2017-02-07                 11        2006           2006   \n",
       "2 2017-02-07                 20        2006           2005   \n",
       "\n",
       "  Borough of Occurrence  Is Full Investigation  Complaint Has Video Evidence  \\\n",
       "0              Brooklyn                  False                         False   \n",
       "1                 Bronx                  False                         False   \n",
       "2                 Bronx                  False                         False   \n",
       "\n",
       "     Complaint Filed Mode Complaint Filed Place  \\\n",
       "0                   Phone                   IAB   \n",
       "1                   Phone                   IAB   \n",
       "2  Call Processing System                  CCRB   \n",
       "\n",
       "   Complaint Contains Stop & Frisk Allegations Incident Location  \\\n",
       "0                                        False    Street/highway   \n",
       "1                                        False    Street/highway   \n",
       "2                                         True    Street/highway   \n",
       "\n",
       "   Incident Year     Encounter Outcome  \\\n",
       "0           2006  No Arrest or Summons   \n",
       "1           2006                Arrest   \n",
       "2           2005  No Arrest or Summons   \n",
       "\n",
       "                     Reason For Initial Contact Allegation FADO Type  \\\n",
       "0  PD suspected C/V of violation/crime - street          Discourtesy   \n",
       "1                                         Other                Force   \n",
       "2                                         Other   Abuse of Authority   \n",
       "\n",
       "  Allegation Description  Abuse of Authority  Discourtesy  Force  \\\n",
       "0                 Action                   0            1      0   \n",
       "1         Physical force                   0            0      1   \n",
       "2         Strip-searched                   1            0      0   \n",
       "\n",
       "   Offensive Language  \n",
       "0                   0  \n",
       "1                   0  \n",
       "2                   0  "
      ]
     },
     "execution_count": 209,
     "metadata": {},
     "output_type": "execute_result"
    }
   ],
   "source": [
    "FADO_complete.head(3)"
   ]
  },
  {
   "cell_type": "code",
   "execution_count": 210,
   "metadata": {},
   "outputs": [],
   "source": [
    "# Create total n of allegations variable\n",
    "FADO_complete['Allegations_total'] = FADO_complete['Abuse of Authority'] + \\\n",
    "FADO_complete['Discourtesy'] + FADO_complete['Force'] + FADO_complete['Offensive Language']"
   ]
  },
  {
   "cell_type": "code",
   "execution_count": 212,
   "metadata": {},
   "outputs": [],
   "source": [
    "# Drop unused cols\n",
    "FADO_complete = FADO_complete[['UniqueComplaintId', 'Allegation FADO Type', \\\n",
    "                               'Abuse of Authority', 'Force', \\\n",
    "              'Discourtesy', 'Offensive Language', 'Allegations_total']]"
   ]
  },
  {
   "cell_type": "code",
   "execution_count": 216,
   "metadata": {},
   "outputs": [],
   "source": [
    "# Resample data frame by unique id\n",
    "FADO_rsmpld = FADO_complete.groupby('UniqueComplaintId').sum()"
   ]
  },
  {
   "cell_type": "code",
   "execution_count": 242,
   "metadata": {},
   "outputs": [],
   "source": [
    "FADO_rsmpld_pt1 = FADO_rsmpld[['Abuse of Authority', 'Force', \\\n",
    "              'Discourtesy', 'Offensive Language']].applymap(lambda x: 1 if x > 0 else 0)\n",
    "\n",
    "FADO_rsmpld_pt2 = FADO_rsmpld['Allegations_total']\n",
    "\n",
    "FADO_rsmpld_final = FADO_rsmpld_pt1.join(FADO_rsmpld_pt2)"
   ]
  },
  {
   "cell_type": "code",
   "execution_count": 248,
   "metadata": {},
   "outputs": [],
   "source": [
    "FADO_rsmpld_final.to_csv('C:\\\\Users\\\\Ol\\\\Documents\\\\DATA ANALYSIS\\\\DATA_INCUBATOR\\\\edit.csv')"
   ]
  },
  {
   "cell_type": "code",
   "execution_count": 243,
   "metadata": {},
   "outputs": [],
   "source": [
    "# Prepare dataset for performing linear regression\n",
    "y_fado = FADO_rsmpld_final.Allegations_total.values\n",
    "X_fado = sm.add_constant(FADO_rsmpld_final.drop('Allegations_total', axis=1).values)"
   ]
  },
  {
   "cell_type": "code",
   "execution_count": 244,
   "metadata": {
    "scrolled": false
   },
   "outputs": [
    {
     "data": {
      "text/html": [
       "<table class=\"simpletable\">\n",
       "<caption>OLS Regression Results</caption>\n",
       "<tr>\n",
       "  <th>Dep. Variable:</th>            <td>y</td>        <th>  R-squared:         </th>  <td>   0.411</td>  \n",
       "</tr>\n",
       "<tr>\n",
       "  <th>Model:</th>                   <td>OLS</td>       <th>  Adj. R-squared:    </th>  <td>   0.411</td>  \n",
       "</tr>\n",
       "<tr>\n",
       "  <th>Method:</th>             <td>Least Squares</td>  <th>  F-statistic:       </th>  <td>1.195e+04</td> \n",
       "</tr>\n",
       "<tr>\n",
       "  <th>Date:</th>             <td>Sat, 21 Jul 2018</td> <th>  Prob (F-statistic):</th>   <td>  0.00</td>   \n",
       "</tr>\n",
       "<tr>\n",
       "  <th>Time:</th>                 <td>08:30:20</td>     <th>  Log-Likelihood:    </th> <td>-1.3784e+05</td>\n",
       "</tr>\n",
       "<tr>\n",
       "  <th>No. Observations:</th>      <td> 68467</td>      <th>  AIC:               </th>  <td>2.757e+05</td> \n",
       "</tr>\n",
       "<tr>\n",
       "  <th>Df Residuals:</th>          <td> 68462</td>      <th>  BIC:               </th>  <td>2.757e+05</td> \n",
       "</tr>\n",
       "<tr>\n",
       "  <th>Df Model:</th>              <td>     4</td>      <th>                     </th>      <td> </td>     \n",
       "</tr>\n",
       "<tr>\n",
       "  <th>Covariance Type:</th>      <td>nonrobust</td>    <th>                     </th>      <td> </td>     \n",
       "</tr>\n",
       "</table>\n",
       "<table class=\"simpletable\">\n",
       "<tr>\n",
       "    <td></td>       <th>coef</th>     <th>std err</th>      <th>t</th>      <th>P>|t|</th>  <th>[0.025</th>    <th>0.975]</th>  \n",
       "</tr>\n",
       "<tr>\n",
       "  <th>const</th> <td>   -0.4305</td> <td>    0.017</td> <td>  -25.038</td> <td> 0.000</td> <td>   -0.464</td> <td>   -0.397</td>\n",
       "</tr>\n",
       "<tr>\n",
       "  <th>x1</th>    <td>    2.5697</td> <td>    0.015</td> <td>  170.529</td> <td> 0.000</td> <td>    2.540</td> <td>    2.599</td>\n",
       "</tr>\n",
       "<tr>\n",
       "  <th>x2</th>    <td>    1.9042</td> <td>    0.015</td> <td>  130.857</td> <td> 0.000</td> <td>    1.876</td> <td>    1.933</td>\n",
       "</tr>\n",
       "<tr>\n",
       "  <th>x3</th>    <td>    1.6070</td> <td>    0.014</td> <td>  112.165</td> <td> 0.000</td> <td>    1.579</td> <td>    1.635</td>\n",
       "</tr>\n",
       "<tr>\n",
       "  <th>x4</th>    <td>    1.4769</td> <td>    0.026</td> <td>   57.062</td> <td> 0.000</td> <td>    1.426</td> <td>    1.528</td>\n",
       "</tr>\n",
       "</table>\n",
       "<table class=\"simpletable\">\n",
       "<tr>\n",
       "  <th>Omnibus:</th>       <td>38950.977</td> <th>  Durbin-Watson:     </th>  <td>   1.982</td> \n",
       "</tr>\n",
       "<tr>\n",
       "  <th>Prob(Omnibus):</th>  <td> 0.000</td>   <th>  Jarque-Bera (JB):  </th> <td>490730.027</td>\n",
       "</tr>\n",
       "<tr>\n",
       "  <th>Skew:</th>           <td> 2.505</td>   <th>  Prob(JB):          </th>  <td>    0.00</td> \n",
       "</tr>\n",
       "<tr>\n",
       "  <th>Kurtosis:</th>       <td>15.121</td>   <th>  Cond. No.          </th>  <td>    5.26</td> \n",
       "</tr>\n",
       "</table>"
      ],
      "text/plain": [
       "<class 'statsmodels.iolib.summary.Summary'>\n",
       "\"\"\"\n",
       "                            OLS Regression Results                            \n",
       "==============================================================================\n",
       "Dep. Variable:                      y   R-squared:                       0.411\n",
       "Model:                            OLS   Adj. R-squared:                  0.411\n",
       "Method:                 Least Squares   F-statistic:                 1.195e+04\n",
       "Date:                Sat, 21 Jul 2018   Prob (F-statistic):               0.00\n",
       "Time:                        08:30:20   Log-Likelihood:            -1.3784e+05\n",
       "No. Observations:               68467   AIC:                         2.757e+05\n",
       "Df Residuals:                   68462   BIC:                         2.757e+05\n",
       "Df Model:                           4                                         \n",
       "Covariance Type:            nonrobust                                         \n",
       "==============================================================================\n",
       "                 coef    std err          t      P>|t|      [0.025      0.975]\n",
       "------------------------------------------------------------------------------\n",
       "const         -0.4305      0.017    -25.038      0.000      -0.464      -0.397\n",
       "x1             2.5697      0.015    170.529      0.000       2.540       2.599\n",
       "x2             1.9042      0.015    130.857      0.000       1.876       1.933\n",
       "x3             1.6070      0.014    112.165      0.000       1.579       1.635\n",
       "x4             1.4769      0.026     57.062      0.000       1.426       1.528\n",
       "==============================================================================\n",
       "Omnibus:                    38950.977   Durbin-Watson:                   1.982\n",
       "Prob(Omnibus):                  0.000   Jarque-Bera (JB):           490730.027\n",
       "Skew:                           2.505   Prob(JB):                         0.00\n",
       "Kurtosis:                      15.121   Cond. No.                         5.26\n",
       "==============================================================================\n",
       "\n",
       "Warnings:\n",
       "[1] Standard Errors assume that the covariance matrix of the errors is correctly specified.\n",
       "\"\"\""
      ]
     },
     "execution_count": 244,
     "metadata": {},
     "output_type": "execute_result"
    }
   ],
   "source": [
    "# Perform linear regression\n",
    "model_fado = sm.OLS(y_fado, X_fado)\n",
    "result_fado = model_fado.fit()\n",
    "result_fado.summary()"
   ]
  },
  {
   "cell_type": "code",
   "execution_count": 371,
   "metadata": {},
   "outputs": [
    {
     "data": {
      "text/plain": [
       "'2.56970090753'"
      ]
     },
     "execution_count": 371,
     "metadata": {},
     "output_type": "execute_result"
    }
   ],
   "source": [
    "# Grader needs bigger float precision\n",
    "f'{result_fado.params[1]:.11f}'"
   ]
  },
  {
   "cell_type": "markdown",
   "metadata": {},
   "source": [
    "* According to NYC.gov there are approximately 36000 officers in New York. The website additionally lists information on all the precincts in each borough. Consider unique complaints (not necessarily with complete information) from incidents in 2016. Assuming that complaints per capita are proportional to officers per capita in each borough, calculate the average number of officers per precinct in each borough (ignore complaints from outside of NYC). What is the ratio of the highest number of officers per precinct to the lowest number of officers per precinct? "
   ]
  },
  {
   "cell_type": "code",
   "execution_count": 255,
   "metadata": {},
   "outputs": [],
   "source": [
    "# Save url for scraping precincts\n",
    "url = 'https://www1.nyc.gov/site/nypd/bureaus/patrol/precincts-landing.page'"
   ]
  },
  {
   "cell_type": "code",
   "execution_count": 270,
   "metadata": {},
   "outputs": [],
   "source": [
    "# Download the page\n",
    "page = urllib.request.urlopen(url).read()"
   ]
  },
  {
   "cell_type": "code",
   "execution_count": 271,
   "metadata": {},
   "outputs": [],
   "source": [
    "# Create the soup\n",
    "precinct_soup = BeautifulSoup(page, 'lxml')"
   ]
  },
  {
   "cell_type": "code",
   "execution_count": 355,
   "metadata": {},
   "outputs": [
    {
     "name": "stdout",
     "output_type": "stream",
     "text": [
      "1 \n",
      "Manhattan\n",
      "\n",
      "24 \n",
      "Bronx\n",
      "\n",
      "37 \n",
      "Brooklyn\n",
      "\n",
      "61 \n",
      "Queens\n",
      "\n",
      "78 \n",
      "Staten Island\n",
      "\n"
     ]
    }
   ],
   "source": [
    "# Find indexes of borough name rows\n",
    "for i, c in enumerate(list(precinct_soup.find_all('tr'))):\n",
    "    if 'subhead' in str(c):\n",
    "        print(i, c.text)"
   ]
  },
  {
   "cell_type": "code",
   "execution_count": 356,
   "metadata": {},
   "outputs": [
    {
     "data": {
      "text/plain": [
       "83"
      ]
     },
     "execution_count": 356,
     "metadata": {},
     "output_type": "execute_result"
    }
   ],
   "source": [
    "# Find the index of the last row\n",
    "len(precinct_soup.find_all('tr'))"
   ]
  },
  {
   "cell_type": "code",
   "execution_count": 357,
   "metadata": {},
   "outputs": [
    {
     "data": {
      "text/plain": [
       "<tr>\n",
       "<td data-label=\"Precinct\"><a href=\"/site/nypd/bureaus/patrol/precincts/123rd-precinct.page\">123rd Precinct</a></td>\n",
       "<td data-label=\"Phone\">718-948-9311</td>\n",
       "<td data-label=\"Address\">116 Main Street</td>\n",
       "</tr>"
      ]
     },
     "execution_count": 357,
     "metadata": {},
     "output_type": "execute_result"
    }
   ],
   "source": [
    "# Check if the last row contains precinct info\n",
    "list(precinct_soup.find_all('tr'))[-1]"
   ]
  },
  {
   "cell_type": "code",
   "execution_count": 358,
   "metadata": {},
   "outputs": [],
   "source": [
    "# Compute n of precincts per borough\n",
    "n_precincts = {'mnhttn': 24-1-1, 'brnx': 37-24-1, 'brkln': 61-37-1, \\\n",
    "              'queens': 78-61-1, 'sttn': 83-78-1}"
   ]
  },
  {
   "cell_type": "code",
   "execution_count": 359,
   "metadata": {},
   "outputs": [
    {
     "data": {
      "text/plain": [
       "{'brkln': 23, 'brnx': 12, 'mnhttn': 22, 'queens': 16, 'sttn': 4}"
      ]
     },
     "execution_count": 359,
     "metadata": {},
     "output_type": "execute_result"
    }
   ],
   "source": [
    "# Sanity check\n",
    "n_precincts"
   ]
  },
  {
   "cell_type": "code",
   "execution_count": 410,
   "metadata": {},
   "outputs": [],
   "source": [
    "# Create new dataframe with data for incidents from 2016 ignoring outside NYC\n",
    "data_precinct = data[(data['Borough of Occurrence']!= 'Outside NYC') & \\\n",
    "                     (data['Incident Year']==2016)]"
   ]
  },
  {
   "cell_type": "code",
   "execution_count": 411,
   "metadata": {},
   "outputs": [],
   "source": [
    "# Save unique complaints only\n",
    "data_precinct = data_precinct.drop_duplicates('UniqueComplaintId')"
   ]
  },
  {
   "cell_type": "code",
   "execution_count": 412,
   "metadata": {},
   "outputs": [],
   "source": [
    "# Drop rows with missing borough of occurence\n",
    "data_precinct = data_precinct[~data_precinct['Borough of Occurrence'].isna()]"
   ]
  },
  {
   "cell_type": "code",
   "execution_count": 415,
   "metadata": {},
   "outputs": [
    {
     "data": {
      "text/plain": [
       "Brooklyn         1102\n",
       "Manhattan         862\n",
       "Bronx             792\n",
       "Queens            601\n",
       "Staten Island     156\n",
       "Name: Borough of Occurrence, dtype: int64"
      ]
     },
     "execution_count": 415,
     "metadata": {},
     "output_type": "execute_result"
    }
   ],
   "source": [
    "# Get n of complaints per borough\n",
    "data_precinct['Borough of Occurrence'].value_counts()"
   ]
  },
  {
   "cell_type": "code",
   "execution_count": 416,
   "metadata": {},
   "outputs": [],
   "source": [
    "# Get total n of complaints\n",
    "total_cmplnts = data_precinct['Borough of Occurrence'].value_counts().sum()"
   ]
  },
  {
   "cell_type": "code",
   "execution_count": 418,
   "metadata": {},
   "outputs": [],
   "source": [
    "# Compute percent of complaints per borough\n",
    "percent_cmplnts_per_boro = {'brkln': 1102/total_cmplnts,\\\n",
    "                           'mnhttn': 862/total_cmplnts,\\\n",
    "                           'brnx': 792/total_cmplnts,\\\n",
    "                           'queens': 601/total_cmplnts,\\\n",
    "                           'sttn': 156/total_cmplnts}"
   ]
  },
  {
   "cell_type": "code",
   "execution_count": 424,
   "metadata": {},
   "outputs": [],
   "source": [
    "# Compute n officers per borough\n",
    "officers_per_boro = {}\n",
    "for key in percent_cmplnts_per_boro.keys():\n",
    "    officers_per_boro[key] = 36000*percent_cmplnts_per_boro[key]"
   ]
  },
  {
   "cell_type": "code",
   "execution_count": 430,
   "metadata": {},
   "outputs": [],
   "source": [
    "# Compute mean n of officers per precinct\n",
    "n_officers_per_precinct_per_boro = []\n",
    "for key in officers_per_boro.keys():\n",
    "    n_officers_per_precinct_per_boro.append(round(officers_per_boro[key] / n_precincts[key]))"
   ]
  },
  {
   "cell_type": "code",
   "execution_count": 431,
   "metadata": {},
   "outputs": [
    {
     "data": {
      "text/plain": [
       "1.7558441558441558"
      ]
     },
     "execution_count": 431,
     "metadata": {},
     "output_type": "execute_result"
    }
   ],
   "source": [
    "max(n_officers_per_precinct_per_boro) /\\\n",
    "min(n_officers_per_precinct_per_boro)"
   ]
  },
  {
   "cell_type": "code",
   "execution_count": null,
   "metadata": {},
   "outputs": [],
   "source": []
  }
 ],
 "metadata": {
  "kernelspec": {
   "display_name": "Python 3",
   "language": "python",
   "name": "python3"
  },
  "language_info": {
   "codemirror_mode": {
    "name": "ipython",
    "version": 3
   },
   "file_extension": ".py",
   "mimetype": "text/x-python",
   "name": "python",
   "nbconvert_exporter": "python",
   "pygments_lexer": "ipython3",
   "version": "3.6.4"
  }
 },
 "nbformat": 4,
 "nbformat_minor": 2
}
